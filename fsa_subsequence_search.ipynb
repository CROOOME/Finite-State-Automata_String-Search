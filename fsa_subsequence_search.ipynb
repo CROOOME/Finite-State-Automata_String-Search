{
  "nbformat": 4,
  "nbformat_minor": 0,
  "metadata": {
    "colab": {
      "name": "fsa_subsequence_search.ipynb",
      "provenance": [],
      "authorship_tag": "ABX9TyMNMLIiMtCExyKdJbAYq3Op",
      "include_colab_link": true
    },
    "kernelspec": {
      "name": "python3",
      "display_name": "Python 3"
    }
  },
  "cells": [
    {
      "cell_type": "markdown",
      "metadata": {
        "id": "view-in-github",
        "colab_type": "text"
      },
      "source": [
        "<a href=\"https://colab.research.google.com/github/CROOOME/Finite-State-Automata_String-Search/blob/master/fsa_subsequence_search.ipynb\" target=\"_parent\"><img src=\"https://colab.research.google.com/assets/colab-badge.svg\" alt=\"Open In Colab\"/></a>"
      ]
    },
    {
      "cell_type": "code",
      "metadata": {
        "id": "HMAcsOB6qLl0",
        "colab_type": "code",
        "colab": {
          "base_uri": "https://localhost:8080/",
          "height": 272
        },
        "outputId": "77e66ee2-312a-487d-f6d0-23e4319b038a"
      },
      "source": [
        "\n",
        "class FSANode(object):\n",
        "    def __init__(self, value=None, finished=False):\n",
        "        self.value = value\n",
        "        self.finished = finished\n",
        "        self.move = {}   # Dict of Nodes to move to according to the input\n",
        "\n",
        "\n",
        "class FSA(object):\n",
        "    def __init__(self, pattern):\n",
        "        self.head = None\n",
        "        self.pattern = pattern\n",
        "        self.layout = {}\n",
        "\n",
        "        self.parse_pattern()\n",
        "\n",
        "    def parse_pattern(self, pattern=None):\n",
        "        if pattern:\n",
        "            print('overriding pattern: old: {} new: {}'.format(self.pattern, pattern))\n",
        "            self.pattern = pattern\n",
        "\n",
        "        self.head = FSANode()\n",
        "        current_node = self.head\n",
        "        for i in self.pattern:\n",
        "            # version 1: iterative string\n",
        "            next_node = FSANode(value=i)\n",
        "            current_node.move[i] = next_node\n",
        "            current_node = next_node\n",
        "            print('current_node {}'.format(current_node.value))\n",
        "\n",
        "        current_node.finished = True\n",
        "\n",
        "    def path(self):\n",
        "        current_node = self.head\n",
        "        # visited = {}\n",
        "        path = ''\n",
        "        while not current_node.finished:\n",
        "            for i in current_node.move:\n",
        "                path += '->' + i\n",
        "                current_node = current_node.move[i]\n",
        "        print(path)\n",
        "        return path\n",
        "\n",
        "    def search(self, sequence):\n",
        "        current_node = self.head\n",
        "        for i, val in enumerate(sequence):\n",
        "            if current_node.finished:\n",
        "                print(\"Found pattern '{}'  @ {} in sequence '{}'\".format(self.pattern, i, sequence))\n",
        "                return\n",
        "            if val in current_node.move:\n",
        "                print('i: {} val: {}'.format(i, val))\n",
        "                current_node = current_node.move[val]\n",
        "            else:\n",
        "                current_node = self.head\n",
        "        return\n",
        "\n",
        "\n",
        "if __name__ == '__main__':\n",
        "    sequence = 'Does this string contain the string test?'\n",
        "    subsequence = 'test'\n",
        "    fsa = FSA(pattern=subsequence)\n",
        "    fsa.path()\n",
        "    fsa.search(sequence)"
      ],
      "execution_count": 2,
      "outputs": [
        {
          "output_type": "stream",
          "text": [
            "current_node t\n",
            "current_node e\n",
            "current_node s\n",
            "current_node t\n",
            "->t->e->s->t\n",
            "i: 5 val: t\n",
            "i: 11 val: t\n",
            "i: 20 val: t\n",
            "i: 25 val: t\n",
            "i: 30 val: t\n",
            "i: 36 val: t\n",
            "i: 37 val: e\n",
            "i: 38 val: s\n",
            "i: 39 val: t\n",
            "Found pattern 'test'  @ 40 in sequence 'Does this string contain the string test?'\n"
          ],
          "name": "stdout"
        }
      ]
    }
  ]
}